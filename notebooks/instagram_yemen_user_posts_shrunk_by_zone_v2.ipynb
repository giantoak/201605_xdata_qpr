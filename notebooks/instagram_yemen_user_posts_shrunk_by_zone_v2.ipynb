{
 "cells": [
  {
   "cell_type": "markdown",
   "metadata": {},
   "source": [
    "In this notebook, we play around with using Capyldi (Capaldi?) to do bulk runs on the whereistheboom.csv dump."
   ]
  },
  {
   "cell_type": "code",
   "execution_count": 1,
   "metadata": {
    "collapsed": false
   },
   "outputs": [],
   "source": [
    "import pandas as pd\n",
    "import matplotlib as mpl\n",
    "import numpy as np\n",
    "import numpy.random as npr\n",
    "from tqdm import tqdm\n",
    "import requests\n",
    "import sys\n",
    "\n",
    "from geopy.distance import distance\n",
    "\n",
    "sys.path.append('../../../capyldi')\n",
    "from capyldi import capyldi\n",
    "\n",
    "%matplotlib inline"
   ]
  },
  {
   "cell_type": "code",
   "execution_count": 2,
   "metadata": {
    "collapsed": false
   },
   "outputs": [],
   "source": [
    "ceasefire_df = pd.read_csv('../data/go_events/ceasefire_chronology.csv', parse_dates=['Date'])\n",
    "start_date = ceasefire_df.Date[0]\n",
    "ceasefire_df = ceasefire_df.iloc[1:, :].reset_index(drop=True)\n",
    "real_dates = set(ceasefire_df.Date)\n",
    "ceasefire_df['lat_lon'] = ceasefire_df['Lat,Lon'].apply(eval)\n",
    "del ceasefire_df['Lat,Lon']"
   ]
  },
  {
   "cell_type": "code",
   "execution_count": 3,
   "metadata": {
    "collapsed": false
   },
   "outputs": [],
   "source": [
    "base_df = pd.read_csv('../data/instagram/instagram_yemen_user_posts_shrunk.csv',\n",
    "                      parse_dates=['timestamp'])\n",
    "del base_df['epoch']\n",
    "base_df.columns = ['id', 'lat_lon', 'date_col']\n",
    "base_df['lat_lon'] = base_df.lat_lon.apply(eval)\n",
    "df = base_df.date_col.value_counts().reset_index()\n",
    "df.columns = ['date_col', 'count_col']"
   ]
  },
  {
   "cell_type": "code",
   "execution_count": 4,
   "metadata": {
    "collapsed": false
   },
   "outputs": [
    {
     "data": {
      "text/plain": [
       "(3902571, 3)"
      ]
     },
     "execution_count": 4,
     "metadata": {},
     "output_type": "execute_result"
    }
   ],
   "source": [
    "base_df.shape"
   ]
  },
  {
   "cell_type": "code",
   "execution_count": 5,
   "metadata": {
    "collapsed": false
   },
   "outputs": [],
   "source": [
    "import pickle\n",
    "\n",
    "def haversine(lat_lons_1, lat_lon_2):\n",
    "    \"\"\"\n",
    "    Calculate the great circle distance between two points \n",
    "    on the earth (specified in decimal degrees)\n",
    "    \"\"\"\n",
    "    # convert decimal degrees to radians \n",
    "    lons_1 = np.radians([x[1] for x in lat_lons_1])\n",
    "    lats_1 = np.radians([x[0] for x in lat_lons_1])\n",
    "    lon_2 = np.radians(lat_lon_2[1])\n",
    "    lat_2 = np.radians([lat_lon_2[0]])\n",
    "    \n",
    "    dlons = lon_2 - lons_1\n",
    "    dlats = lat_2 - lats_1\n",
    "    \n",
    "    a_vals = np.power(np.sin(dlats/2), 2) + np.cos(lats_1) * np.cos(lat_2) * np.power(np.sin(dlons/2), 2)\n",
    "    c_vals = 2 * np.arcsin(np.sqrt(a_vals))\n",
    "    return 6367 * c_vals"
   ]
  },
  {
   "cell_type": "code",
   "execution_count": 6,
   "metadata": {
    "collapsed": false
   },
   "outputs": [
    {
     "name": "stdout",
     "output_type": "stream",
     "text": [
      "(5074, 3)\n",
      "(11313, 3)\n",
      "(5517, 3)\n",
      "(11313, 3)\n",
      "(11316, 3)\n",
      "(11353, 3)\n",
      "(11313, 3)\n",
      "(10691, 3)\n",
      "(4169, 3)\n",
      "(4222, 3)\n",
      "(4171, 3)\n",
      "(5560, 3)\n"
     ]
    }
   ],
   "source": [
    "MAX_R = 160.934\n",
    "\n",
    "incident_dfs = []\n",
    "for i in range(ceasefire_df.shape[0]):\n",
    "    \n",
    "    def is_in_range(x_vars):\n",
    "        try:\n",
    "            return haversine(x_vars, ceasefire_df.loc[i, 'lat_lon']) < MAX_R\n",
    "        except UnboundLocalError:\n",
    "            return False\n",
    "    \n",
    "    incident_dfs.append(base_df.loc[is_in_range(base_df.lat_lon.values), :])\n",
    "    print(incident_dfs[-1].shape)\n",
    "    with open('incident_df_{}.pkl'.format(i), 'wb') as outfile:\n",
    "        pickle.dump(incident_dfs[-1], outfile)"
   ]
  },
  {
   "cell_type": "code",
   "execution_count": 7,
   "metadata": {
    "collapsed": true
   },
   "outputs": [],
   "source": [
    "import pickle\n",
    "with open('yemen_zones.pkl', 'wb') as outfile:\n",
    "    pickle.dump(incident_dfs, outfile)"
   ]
  },
  {
   "cell_type": "code",
   "execution_count": 8,
   "metadata": {
    "collapsed": false
   },
   "outputs": [],
   "source": [
    "for i in range(len(incident_dfs)):\n",
    "    incident_dfs[i] = incident_dfs[i].date_col.value_counts().reset_index()\n",
    "    incident_dfs[i].columns = ['date_col', 'count_col']"
   ]
  },
  {
   "cell_type": "code",
   "execution_count": 15,
   "metadata": {
    "collapsed": false
   },
   "outputs": [
    {
     "data": {
      "image/png": "[encoded data removed]",
      "text/plain": [
       "<matplotlib.figure.Figure at 0x13b540438>"
      ]
     },
     "metadata": {},
     "output_type": "display_data"
    }
   ],
   "source": [
    "f, axarr = plt.subplots(3, 4, figsize=(12, 9), sharex=True)\n",
    "for i in range(3):\n",
    "    for j in range(4):\n",
    "        incident_dfs[4*i+j].date_col.hist(ax=axarr[i, j])"
   ]
  },
  {
   "cell_type": "code",
   "execution_count": 14,
   "metadata": {
    "collapsed": false
   },
   "outputs": [
    {
     "data": {
      "image/png": "[encoded data removed]",
      "text/plain": [
       "<matplotlib.figure.Figure at 0x139c9e7b8>"
      ]
     },
     "metadata": {},
     "output_type": "display_data"
    }
   ],
   "source": [
    "f, axarr = plt.subplots(3, 4, figsize=(12, 9), sharex=True)\n",
    "for i in range(3):\n",
    "    for j in range(4):\n",
    "        incident_dfs[i*4+j].plot(x='date_col', y='count_col', kind='line', ax=axarr[i, j])"
   ]
  },
  {
   "cell_type": "markdown",
   "metadata": {},
   "source": [
    "---"
   ]
  },
  {
   "cell_type": "code",
   "execution_count": 11,
   "metadata": {
    "collapsed": false
   },
   "outputs": [
    {
     "name": "stderr",
     "output_type": "stream",
     "text": [
      "Getting time crosstabs:   0%|          | 0/9 [00:00<?, ?it/s]\n",
      "Analyzing: 0it [00:00, ?it/s]\n",
      "                             \n",
      "Analyzing: 0it [00:00, ?it/s]\n",
      "                             \n",
      "Analyzing: 0it [00:00, ?it/s]\n",
      "                             \n",
      "Analyzing: 0it [00:00, ?it/s]\n",
      "                             \n",
      "Analyzing: 0it [00:00, ?it/s]\n",
      "                             \n",
      "Analyzing: 0it [00:00, ?it/s]\n",
      "                             \n",
      "Analyzing: 0it [00:00, ?it/s]\n",
      "                             \n",
      "Analyzing: 0it [00:00, ?it/s]\n",
      "                             \n",
      "Analyzing: 0it [00:00, ?it/s]\n",
      "Getting time crosstabs: 100%|██████████| 9/9 [00:00<00:00, 458.62it/s]\n",
      "Grouping by time interval:   0%|          | 0/2 [00:00<?, ?it/s]\n",
      "Analyzing:   0%|          | 0/1 [00:00<?, ?it/s]\n",
      "Analyzing: 100%|██████████| 1/1 [00:02<00:00,  2.50s/it]\n",
      "Grouping by time interval:  50%|█████     | 1/2 [00:02<00:02,  2.51s/it]\n",
      "Analyzing:   0%|          | 0/1 [00:00<?, ?it/s]\n",
      "Analyzing: 100%|██████████| 1/1 [00:01<00:00,  1.37s/it]\n",
      "Grouping by time interval: 100%|██████████| 2/2 [00:03<00:00,  2.17s/it]\n",
      "Getting time crosstabs:   0%|          | 0/9 [00:00<?, ?it/s]\n",
      "Analyzing: 0it [00:00, ?it/s]\n",
      "                             \n",
      "Analyzing: 0it [00:00, ?it/s]\n",
      "                             \n",
      "Analyzing: 0it [00:00, ?it/s]\n",
      "                             \n",
      "Analyzing: 0it [00:00, ?it/s]\n",
      "                             \n",
      "Analyzing: 0it [00:00, ?it/s]\n",
      "                             \n",
      "Analyzing: 0it [00:00, ?it/s]\n",
      "                             \n",
      "Analyzing: 0it [00:00, ?it/s]\n",
      "                             \n",
      "Analyzing: 0it [00:00, ?it/s]\n",
      "                             \n",
      "Analyzing: 0it [00:00, ?it/s]\n",
      "Getting time crosstabs: 100%|██████████| 9/9 [00:00<00:00, 551.64it/s]\n",
      "Grouping by time interval:   0%|          | 0/2 [00:00<?, ?it/s]\n",
      "Analyzing:   0%|          | 0/1 [00:00<?, ?it/s]\n",
      "Analyzing: 100%|██████████| 1/1 [00:02<00:00,  2.16s/it]\n",
      "Grouping by time interval:  50%|█████     | 1/2 [00:02<00:02,  2.17s/it]\n",
      "Analyzing:   0%|          | 0/1 [00:00<?, ?it/s]\n",
      "Analyzing: 100%|██████████| 1/1 [00:01<00:00,  1.45s/it]\n",
      "Grouping by time interval: 100%|██████████| 2/2 [00:03<00:00,  1.96s/it]\n",
      "Getting time crosstabs:   0%|          | 0/9 [00:00<?, ?it/s]\n",
      "Analyzing: 0it [00:00, ?it/s]\n",
      "                             \n",
      "Analyzing: 0it [00:00, ?it/s]\n",
      "                             \n",
      "Analyzing: 0it [00:00, ?it/s]\n",
      "                             \n",
      "Analyzing: 0it [00:00, ?it/s]\n",
      "                             \n",
      "Analyzing: 0it [00:00, ?it/s]\n",
      "                             \n",
      "Analyzing: 0it [00:00, ?it/s]\n",
      "                             \n",
      "Analyzing: 0it [00:00, ?it/s]\n",
      "                             \n",
      "Analyzing: 0it [00:00, ?it/s]\n",
      "                             \n",
      "Analyzing: 0it [00:00, ?it/s]\n",
      "Getting time crosstabs: 100%|██████████| 9/9 [00:00<00:00, 578.70it/s]\n",
      "Grouping by time interval:   0%|          | 0/2 [00:00<?, ?it/s]\n",
      "Analyzing:   0%|          | 0/1 [00:00<?, ?it/s]\n",
      "Analyzing: 100%|██████████| 1/1 [00:02<00:00,  2.07s/it]\n",
      "Grouping by time interval:  50%|█████     | 1/2 [00:02<00:02,  2.07s/it]\n",
      "Analyzing:   0%|          | 0/1 [00:00<?, ?it/s]\n",
      "Analyzing: 100%|██████████| 1/1 [00:01<00:00,  1.43s/it]\n",
      "Grouping by time interval: 100%|██████████| 2/2 [00:03<00:00,  1.88s/it]\n",
      "Getting time crosstabs:   0%|          | 0/9 [00:00<?, ?it/s]\n",
      "Analyzing: 0it [00:00, ?it/s]\n",
      "                             \n",
      "Analyzing: 0it [00:00, ?it/s]\n",
      "                             \n",
      "Analyzing: 0it [00:00, ?it/s]\n",
      "                             \n",
      "Analyzing: 0it [00:00, ?it/s]\n",
      "                             \n",
      "Analyzing: 0it [00:00, ?it/s]\n",
      "                             \n",
      "Analyzing: 0it [00:00, ?it/s]\n",
      "                             \n",
      "Analyzing: 0it [00:00, ?it/s]\n",
      "                             \n",
      "Analyzing: 0it [00:00, ?it/s]\n",
      "                             \n",
      "Analyzing: 0it [00:00, ?it/s]\n",
      "Getting time crosstabs: 100%|██████████| 9/9 [00:00<00:00, 472.74it/s]\n",
      "Grouping by time interval:   0%|          | 0/2 [00:00<?, ?it/s]\n",
      "Analyzing:   0%|          | 0/1 [00:00<?, ?it/s]\n",
      "Analyzing: 100%|██████████| 1/1 [00:02<00:00,  2.15s/it]\n",
      "Grouping by time interval:  50%|█████     | 1/2 [00:02<00:02,  2.16s/it]\n",
      "Analyzing:   0%|          | 0/1 [00:00<?, ?it/s]\n",
      "Analyzing: 100%|██████████| 1/1 [00:01<00:00,  1.55s/it]\n",
      "Grouping by time interval: 100%|██████████| 2/2 [00:03<00:00,  1.98s/it]\n",
      "Getting time crosstabs:   0%|          | 0/9 [00:00<?, ?it/s]\n",
      "Analyzing: 0it [00:00, ?it/s]\n",
      "                             \n",
      "Analyzing: 0it [00:00, ?it/s]\n",
      "                             \n",
      "Analyzing: 0it [00:00, ?it/s]\n",
      "                             \n",
      "Analyzing: 0it [00:00, ?it/s]\n",
      "                             \n",
      "Analyzing: 0it [00:00, ?it/s]\n",
      "                             \n",
      "Analyzing: 0it [00:00, ?it/s]\n",
      "                             \n",
      "Analyzing: 0it [00:00, ?it/s]\n",
      "                             \n",
      "Analyzing: 0it [00:00, ?it/s]\n",
      "                             \n",
      "Analyzing: 0it [00:00, ?it/s]\n",
      "Getting time crosstabs: 100%|██████████| 9/9 [00:00<00:00, 530.07it/s]\n",
      "Grouping by time interval:   0%|          | 0/2 [00:00<?, ?it/s]\n",
      "Analyzing:   0%|          | 0/1 [00:00<?, ?it/s]\n",
      "Analyzing: 100%|██████████| 1/1 [00:02<00:00,  2.17s/it]\n",
      "Grouping by time interval:  50%|█████     | 1/2 [00:02<00:02,  2.18s/it]\n",
      "Analyzing:   0%|          | 0/1 [00:00<?, ?it/s]\n",
      "Analyzing: 100%|██████████| 1/1 [00:01<00:00,  1.69s/it]\n",
      "Grouping by time interval: 100%|██████████| 2/2 [00:03<00:00,  2.03s/it]\n",
      "Getting time crosstabs:   0%|          | 0/9 [00:00<?, ?it/s]\n",
      "Analyzing: 0it [00:00, ?it/s]\n",
      "                             \n",
      "Analyzing: 0it [00:00, ?it/s]\n",
      "                             \n",
      "Analyzing: 0it [00:00, ?it/s]\n",
      "                             \n",
      "Analyzing: 0it [00:00, ?it/s]\n",
      "                             \n",
      "Analyzing: 0it [00:00, ?it/s]\n",
      "                             \n",
      "Analyzing: 0it [00:00, ?it/s]\n",
      "                             \n",
      "Analyzing: 0it [00:00, ?it/s]\n",
      "                             \n",
      "Analyzing: 0it [00:00, ?it/s]\n",
      "                             \n",
      "Analyzing: 0it [00:00, ?it/s]\n",
      "Getting time crosstabs: 100%|██████████| 9/9 [00:00<00:00, 571.10it/s]\n",
      "Grouping by time interval:   0%|          | 0/2 [00:00<?, ?it/s]\n",
      "Analyzing:   0%|          | 0/1 [00:00<?, ?it/s]\n",
      "Analyzing: 100%|██████████| 1/1 [00:02<00:00,  2.20s/it]\n",
      "Grouping by time interval:  50%|█████     | 1/2 [00:02<00:02,  2.21s/it]\n",
      "Analyzing:   0%|          | 0/1 [00:00<?, ?it/s]\n",
      "Analyzing: 100%|██████████| 1/1 [00:01<00:00,  1.24s/it]\n",
      "Grouping by time interval: 100%|██████████| 2/2 [00:03<00:00,  1.92s/it]\n",
      "Getting time crosstabs:   0%|          | 0/9 [00:00<?, ?it/s]\n",
      "Analyzing: 0it [00:00, ?it/s]\n",
      "                             \n",
      "Analyzing: 0it [00:00, ?it/s]\n",
      "                             \n",
      "Analyzing: 0it [00:00, ?it/s]\n",
      "                             \n",
      "Analyzing: 0it [00:00, ?it/s]\n",
      "                             \n",
      "Analyzing: 0it [00:00, ?it/s]\n",
      "                             \n",
      "Analyzing: 0it [00:00, ?it/s]\n",
      "                             \n",
      "Analyzing: 0it [00:00, ?it/s]\n",
      "                             \n",
      "Analyzing: 0it [00:00, ?it/s]\n",
      "                             \n",
      "Analyzing: 0it [00:00, ?it/s]\n",
      "Getting time crosstabs: 100%|██████████| 9/9 [00:00<00:00, 478.87it/s]\n",
      "Grouping by time interval:   0%|          | 0/2 [00:00<?, ?it/s]\n",
      "Analyzing:   0%|          | 0/1 [00:00<?, ?it/s]\n",
      "Analyzing: 100%|██████████| 1/1 [00:02<00:00,  2.13s/it]\n",
      "Grouping by time interval:  50%|█████     | 1/2 [00:02<00:02,  2.14s/it]\n",
      "Analyzing:   0%|          | 0/1 [00:00<?, ?it/s]\n",
      "Analyzing: 100%|██████████| 1/1 [00:01<00:00,  1.53s/it]\n",
      "Grouping by time interval: 100%|██████████| 2/2 [00:03<00:00,  1.95s/it]\n",
      "Getting time crosstabs:   0%|          | 0/9 [00:00<?, ?it/s]\n",
      "Analyzing: 0it [00:00, ?it/s]\n",
      "                             \n",
      "Analyzing: 0it [00:00, ?it/s]\n",
      "                             \n",
      "Analyzing: 0it [00:00, ?it/s]\n",
      "                             \n",
      "Analyzing: 0it [00:00, ?it/s]\n",
      "                             \n",
      "Analyzing: 0it [00:00, ?it/s]\n",
      "                             \n",
      "Analyzing: 0it [00:00, ?it/s]\n",
      "                             \n",
      "Analyzing: 0it [00:00, ?it/s]\n",
      "                             \n",
      "Analyzing: 0it [00:00, ?it/s]\n",
      "                             \n",
      "Analyzing: 0it [00:00, ?it/s]\n",
      "Getting time crosstabs: 100%|██████████| 9/9 [00:00<00:00, 571.57it/s]\n",
      "Grouping by time interval:   0%|          | 0/2 [00:00<?, ?it/s]\n",
      "Analyzing:   0%|          | 0/1 [00:00<?, ?it/s]\n",
      "Analyzing: 100%|██████████| 1/1 [00:02<00:00,  2.14s/it]\n",
      "Grouping by time interval:  50%|█████     | 1/2 [00:02<00:02,  2.15s/it]\n",
      "Analyzing:   0%|          | 0/1 [00:00<?, ?it/s]\n",
      "Analyzing: 100%|██████████| 1/1 [00:01<00:00,  1.30s/it]\n",
      "Grouping by time interval: 100%|██████████| 2/2 [00:03<00:00,  1.90s/it]\n",
      "Getting time crosstabs:   0%|          | 0/9 [00:00<?, ?it/s]\n",
      "Analyzing: 0it [00:00, ?it/s]\n",
      "                             \n",
      "Analyzing: 0it [00:00, ?it/s]\n",
      "                             \n",
      "Analyzing: 0it [00:00, ?it/s]\n",
      "                             \n",
      "Analyzing: 0it [00:00, ?it/s]\n",
      "                             \n",
      "Analyzing: 0it [00:00, ?it/s]\n",
      "                             \n",
      "Analyzing: 0it [00:00, ?it/s]\n",
      "                             \n",
      "Analyzing: 0it [00:00, ?it/s]\n",
      "                             \n",
      "Analyzing: 0it [00:00, ?it/s]\n",
      "                             \n",
      "Analyzing: 0it [00:00, ?it/s]\n",
      "Getting time crosstabs: 100%|██████████| 9/9 [00:00<00:00, 560.99it/s]\n",
      "Grouping by time interval:   0%|          | 0/2 [00:00<?, ?it/s]\n",
      "Analyzing:   0%|          | 0/1 [00:00<?, ?it/s]\n",
      "Analyzing: 100%|██████████| 1/1 [00:01<00:00,  2.00s/it]\n",
      "Grouping by time interval:  50%|█████     | 1/2 [00:02<00:02,  2.00s/it]\n",
      "Analyzing:   0%|          | 0/1 [00:00<?, ?it/s]\n",
      "Analyzing: 100%|██████████| 1/1 [00:01<00:00,  1.47s/it]\n",
      "Grouping by time interval: 100%|██████████| 2/2 [00:03<00:00,  1.85s/it]\n",
      "Getting time crosstabs:   0%|          | 0/9 [00:00<?, ?it/s]\n",
      "Analyzing: 0it [00:00, ?it/s]\n",
      "                             \n",
      "Analyzing: 0it [00:00, ?it/s]\n",
      "                             \n",
      "Analyzing: 0it [00:00, ?it/s]\n",
      "                             \n",
      "Analyzing: 0it [00:00, ?it/s]\n",
      "                             \n",
      "Analyzing: 0it [00:00, ?it/s]\n",
      "                             \n",
      "Analyzing: 0it [00:00, ?it/s]\n",
      "                             \n",
      "Analyzing: 0it [00:00, ?it/s]\n",
      "                             \n",
      "Analyzing: 0it [00:00, ?it/s]\n",
      "                             \n",
      "Analyzing: 0it [00:00, ?it/s]\n",
      "Getting time crosstabs: 100%|██████████| 9/9 [00:00<00:00, 495.84it/s]\n",
      "Grouping by time interval:   0%|          | 0/2 [00:00<?, ?it/s]\n",
      "Analyzing:   0%|          | 0/1 [00:00<?, ?it/s]\n",
      "Analyzing: 100%|██████████| 1/1 [00:02<00:00,  2.03s/it]\n",
      "Grouping by time interval:  50%|█████     | 1/2 [00:02<00:02,  2.04s/it]\n",
      "Analyzing:   0%|          | 0/1 [00:00<?, ?it/s]\n",
      "Analyzing: 100%|██████████| 1/1 [00:01<00:00,  1.50s/it]\n",
      "Grouping by time interval: 100%|██████████| 2/2 [00:03<00:00,  1.88s/it]\n",
      "Getting time crosstabs:   0%|          | 0/9 [00:00<?, ?it/s]\n",
      "Analyzing: 0it [00:00, ?it/s]\n",
      "                             \n",
      "Analyzing: 0it [00:00, ?it/s]\n",
      "                             \n",
      "Analyzing: 0it [00:00, ?it/s]\n",
      "                             \n",
      "Analyzing: 0it [00:00, ?it/s]\n",
      "                             \n",
      "Analyzing: 0it [00:00, ?it/s]\n",
      "                             \n",
      "Analyzing: 0it [00:00, ?it/s]\n",
      "                             \n",
      "Analyzing: 0it [00:00, ?it/s]\n",
      "                             \n",
      "Analyzing: 0it [00:00, ?it/s]\n",
      "                             \n",
      "Analyzing: 0it [00:00, ?it/s]\n",
      "Getting time crosstabs: 100%|██████████| 9/9 [00:00<00:00, 537.28it/s]\n",
      "Grouping by time interval:   0%|          | 0/2 [00:00<?, ?it/s]\n",
      "Analyzing:   0%|          | 0/1 [00:00<?, ?it/s]\n",
      "Analyzing: 100%|██████████| 1/1 [00:02<00:00,  2.02s/it]\n",
      "Grouping by time interval:  50%|█████     | 1/2 [00:02<00:02,  2.02s/it]\n",
      "Analyzing:   0%|          | 0/1 [00:00<?, ?it/s]\n",
      "Analyzing: 100%|██████████| 1/1 [00:01<00:00,  1.43s/it]\n",
      "Grouping by time interval: 100%|██████████| 2/2 [00:03<00:00,  1.85s/it]\n",
      "Getting time crosstabs:   0%|          | 0/9 [00:00<?, ?it/s]\n",
      "Analyzing: 0it [00:00, ?it/s]\n",
      "                             \n",
      "Analyzing: 0it [00:00, ?it/s]\n",
      "                             \n",
      "Analyzing: 0it [00:00, ?it/s]\n",
      "                             \n",
      "Analyzing: 0it [00:00, ?it/s]\n",
      "                             \n",
      "Analyzing: 0it [00:00, ?it/s]\n",
      "                             \n",
      "Analyzing: 0it [00:00, ?it/s]\n",
      "                             \n",
      "Analyzing: 0it [00:00, ?it/s]\n",
      "                             \n",
      "Analyzing: 0it [00:00, ?it/s]\n",
      "                             \n",
      "Analyzing: 0it [00:00, ?it/s]\n",
      "Getting time crosstabs: 100%|██████████| 9/9 [00:00<00:00, 582.08it/s]\n",
      "Grouping by time interval:   0%|          | 0/2 [00:00<?, ?it/s]\n",
      "Analyzing:   0%|          | 0/1 [00:00<?, ?it/s]\n",
      "Analyzing: 100%|██████████| 1/1 [00:02<00:00,  2.03s/it]\n",
      "Grouping by time interval:  50%|█████     | 1/2 [00:02<00:02,  2.04s/it]\n",
      "Analyzing:   0%|          | 0/1 [00:00<?, ?it/s]\n",
      "Analyzing: 100%|██████████| 1/1 [00:01<00:00,  1.55s/it]\n",
      "Grouping by time interval: 100%|██████████| 2/2 [00:03<00:00,  1.89s/it]\n"
     ]
    }
   ],
   "source": [
    "results = []\n",
    "for i in range(len(incident_dfs)):\n",
    "    results.append(capyldi(incident_dfs[i], ['arima']))\n",
    "    with open('i_df_arima_{}'.format(i), 'wb') as outfile:\n",
    "        pickle.dump(results[-1], outfile)"
   ]
  },
  {
   "cell_type": "code",
   "execution_count": 12,
   "metadata": {
    "collapsed": true
   },
   "outputs": [],
   "source": [
    "import pickle\n",
    "with open('../data/pickles/results_yemen_zone_arimas.pkl', 'wb') as outfile:\n",
    "    pickle.dump(results, outfile)"
   ]
  }
 ],
 "metadata": {
  "kernelspec": {
   "display_name": "Python 3",
   "language": "python",
   "name": "python3"
  },
  "language_info": {
   "codemirror_mode": {
    "name": "ipython",
    "version": 3
   },
   "file_extension": ".py",
   "mimetype": "text/x-python",
   "name": "python",
   "nbconvert_exporter": "python",
   "pygments_lexer": "ipython3",
   "version": "3.5.1"
  },
  "widgets": {
   "state": {},
   "version": "1.1.2"
  }
 },
 "nbformat": 4,
 "nbformat_minor": 0
}
