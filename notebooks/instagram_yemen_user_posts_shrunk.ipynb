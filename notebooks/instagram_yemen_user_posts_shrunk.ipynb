{
 "cells": [
  {
   "cell_type": "markdown",
   "metadata": {},
   "source": [
    "In this notebook, we play around with using Capyldi (Capaldi?) to do bulk runs on the whereistheboom.csv dump."
   ]
  },
  {
   "cell_type": "code",
   "execution_count": 1,
   "metadata": {
    "collapsed": false
   },
   "outputs": [],
   "source": [
    "import pandas as pd\n",
    "import matplotlib as mpl\n",
    "import numpy as np\n",
    "import numpy.random as npr\n",
    "from tqdm import tqdm\n",
    "import requests\n",
    "import sys\n",
    "\n",
    "sys.path.append('../../../capyldi')\n",
    "from capyldi import capyldi\n",
    "\n",
    "%matplotlib inline"
   ]
  },
  {
   "cell_type": "code",
   "execution_count": 2,
   "metadata": {
    "collapsed": false
   },
   "outputs": [],
   "source": [
    "base_df = pd.read_csv('../data/instagram/instagram_yemen_user_posts_shrunk.csv',\n",
    "                      parse_dates=['timestamp'])\n",
    "del base_df['epoch']\n",
    "base_df.columns = ['id', 'lat_lon', 'date_col']\n",
    "df = base_df.date_col.value_counts().reset_index()\n",
    "df.columns = ['date_col', 'count_col']"
   ]
  },
  {
   "cell_type": "code",
   "execution_count": 3,
   "metadata": {
    "collapsed": false
   },
   "outputs": [
    {
     "data": {
      "text/plain": [
       "<matplotlib.axes._subplots.AxesSubplot at 0x141320198>"
      ]
     },
     "execution_count": 3,
     "metadata": {},
     "output_type": "execute_result"
    },
    {
     "data": {
      "image/png": "[encoded data removed]",
      "text/plain": [
       "<matplotlib.figure.Figure at 0x11d563a58>"
      ]
     },
     "metadata": {},
     "output_type": "display_data"
    }
   ],
   "source": [
    "df.date_col.hist()"
   ]
  },
  {
   "cell_type": "code",
   "execution_count": 4,
   "metadata": {
    "collapsed": false
   },
   "outputs": [
    {
     "data": {
      "text/plain": [
       "<matplotlib.axes._subplots.AxesSubplot at 0x13c812898>"
      ]
     },
     "execution_count": 4,
     "metadata": {},
     "output_type": "execute_result"
    },
    {
     "data": {
      "image/png": "[encoded data removed]",
      "text/plain": [
       "<matplotlib.figure.Figure at 0x13af16630>"
      ]
     },
     "metadata": {},
     "output_type": "display_data"
    }
   ],
   "source": [
    "per_day_df = df.set_index('date_col').groupby(pd.TimeGrouper('1D')).sum().fillna(0).reset_index()\n",
    "per_day_df.plot(x='date_col', y='count_col', kind='line')"
   ]
  },
  {
   "cell_type": "markdown",
   "metadata": {},
   "source": [
    "---"
   ]
  },
  {
   "cell_type": "code",
   "execution_count": 7,
   "metadata": {
    "collapsed": false
   },
   "outputs": [
    {
     "name": "stderr",
     "output_type": "stream",
     "text": [
      "Getting time crosstabs:   0%|          | 0/9 [00:00<?, ?it/s]\n",
      "Analyzing:   0%|          | 0/1 [00:00<?, ?it/s]\n",
      "Analyzing: 100%|██████████| 1/1 [07:34<00:00, 454.22s/it]\n",
      "Getting time crosstabs:  11%|█         | 1/9 [07:34<1:00:36, 454.51s/it]\n",
      "Analyzing:   0%|          | 0/1 [00:00<?, ?it/s]\n",
      "Analyzing: 100%|██████████| 1/1 [07:34<00:00, 454.22s/it]\n",
      "Getting time crosstabs:  22%|██▏       | 2/9 [15:09<53:01, 454.51s/it]  \n",
      "Analyzing:   0%|          | 0/1 [00:00<?, ?it/s]\n",
      "Analyzing: 100%|██████████| 1/1 [04:34<00:00, 274.75s/it]\n",
      "Getting time crosstabs:  33%|███▎      | 3/9 [19:44<40:04, 400.69s/it]\n",
      "Analyzing:   0%|          | 0/1 [00:00<?, ?it/s]\n",
      "Analyzing: 100%|██████████| 1/1 [04:44<00:00, 284.35s/it]\n",
      "Getting time crosstabs:  44%|████▍     | 4/9 [24:28<30:29, 365.84s/it]\n",
      "Analyzing:   0%|          | 0/1 [00:00<?, ?it/s]\n",
      "Analyzing: 100%|██████████| 1/1 [06:03<00:00, 363.66s/it]\n",
      "Getting time crosstabs:  56%|█████▌    | 5/9 [30:32<24:21, 365.25s/it]\n",
      "Analyzing:   0%|          | 0/1 [00:00<?, ?it/s]\n",
      "Analyzing: 100%|██████████| 1/1 [07:34<00:00, 454.11s/it]\n",
      "Getting time crosstabs:  67%|██████▋   | 6/9 [38:06<19:35, 391.96s/it]\n",
      "Analyzing:   0%|          | 0/1 [00:00<?, ?it/s]\n",
      "Getting time crosstabs:  78%|███████▊  | 7/9 [38:07<09:08, 274.44s/it]\n",
      "Analyzing:   0%|          | 0/1 [00:00<?, ?it/s]\n",
      "Getting time crosstabs:  89%|████████▉ | 8/9 [38:07<03:12, 192.15s/it]\n",
      "Analyzing:   0%|          | 0/1 [00:00<?, ?it/s]\n",
      "Getting time crosstabs: 100%|██████████| 9/9 [38:07<00:00, 134.56s/it]\n",
      "Grouping by time interval:   0%|          | 0/11 [00:00<?, ?it/s]\n",
      "Analyzing: 0it [00:00, ?it/s]\n",
      "Grouping by time interval:   9%|▉         | 1/11 [00:00<00:02,  3.57it/s]\n",
      "Analyzing: 0it [00:00, ?it/s]\n",
      "Grouping by time interval:  18%|█▊        | 2/11 [00:00<00:02,  4.13it/s]\n",
      "Analyzing: 0it [00:00, ?it/s]\n",
      "Grouping by time interval:  27%|██▋       | 3/11 [00:00<00:01,  4.68it/s]\n",
      "Analyzing: 0it [00:00, ?it/s]\n",
      "Grouping by time interval:  36%|███▋      | 4/11 [00:00<00:01,  5.31it/s]\n",
      "Analyzing: 0it [00:00, ?it/s]\n",
      "Grouping by time interval:  45%|████▌     | 5/11 [00:00<00:01,  5.74it/s]\n",
      "Analyzing: 0it [00:00, ?it/s]\n",
      "Grouping by time interval:  55%|█████▍    | 6/11 [00:00<00:00,  6.05it/s]\n",
      "Analyzing: 0it [00:00, ?it/s]\n",
      "Grouping by time interval:  64%|██████▎   | 7/11 [00:01<00:00,  6.29it/s]\n",
      "Analyzing: 0it [00:00, ?it/s]\n",
      "Grouping by time interval:  73%|███████▎  | 8/11 [00:01<00:00,  6.44it/s]\n",
      "Analyzing: 0it [00:00, ?it/s]\n",
      "Grouping by time interval:  82%|████████▏ | 9/11 [00:01<00:00,  6.60it/s]\n",
      "Analyzing: 0it [00:00, ?it/s]\n",
      "Grouping by time interval:  91%|█████████ | 10/11 [00:01<00:00,  6.69it/s]\n",
      "Analyzing: 0it [00:00, ?it/s]\n",
      "Grouping by time interval: 100%|██████████| 11/11 [00:01<00:00,  6.77it/s]\n"
     ]
    }
   ],
   "source": [
    "results = capyldi(df, ['mmpp'])"
   ]
  },
  {
   "cell_type": "code",
   "execution_count": 8,
   "metadata": {
    "collapsed": true
   },
   "outputs": [],
   "source": [
    "import pickle\n",
    "with open('results_yemen_user_posts_shrunk_mmpp.pkl', 'wb') as outfile:\n",
    "    pickle.dump(results, outfile)"
   ]
  }
 ],
 "metadata": {
  "kernelspec": {
   "display_name": "Python 3",
   "language": "python",
   "name": "python3"
  },
  "language_info": {
   "codemirror_mode": {
    "name": "ipython",
    "version": 3
   },
   "file_extension": ".py",
   "mimetype": "text/x-python",
   "name": "python",
   "nbconvert_exporter": "python",
   "pygments_lexer": "ipython3",
   "version": "3.5.1"
  },
  "widgets": {
   "state": {},
   "version": "1.1.2"
  }
 },
 "nbformat": 4,
 "nbformat_minor": 0
}
