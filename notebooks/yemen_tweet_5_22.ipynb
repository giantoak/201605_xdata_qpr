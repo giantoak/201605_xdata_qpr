{
 "cells": [
  {
   "cell_type": "markdown",
   "metadata": {},
   "source": [
    "In this notebook, we play around with using Capyldi (Capaldi?) to do bulk runs on the whereistheboom.csv dump."
   ]
  },
  {
   "cell_type": "code",
   "execution_count": 1,
   "metadata": {
    "collapsed": false
   },
   "outputs": [],
   "source": [
    "import pandas as pd\n",
    "import matplotlib as mpl\n",
    "import numpy as np\n",
    "import numpy.random as npr\n",
    "from tqdm import tqdm\n",
    "import requests\n",
    "import sys\n",
    "\n",
    "sys.path.append('../../../capyldi')\n",
    "from capyldi import capyldi\n",
    "\n",
    "%matplotlib inline"
   ]
  },
  {
   "cell_type": "code",
   "execution_count": 2,
   "metadata": {
    "collapsed": false
   },
   "outputs": [],
   "source": [
    "df = pd.read_table('../data/twitter_from_matt/yemen_tweets_5.22.2016_timeseries.csv',\n",
    "                   sep=';',\n",
    "                   parse_dates=['posted_time'])\n",
    "df = df.posted_time.value_counts().reset_index()\n",
    "df.columns =['date_col', 'count_col']"
   ]
  },
  {
   "cell_type": "code",
   "execution_count": 3,
   "metadata": {
    "collapsed": false
   },
   "outputs": [
    {
     "data": {
      "text/plain": [
       "<matplotlib.axes._subplots.AxesSubplot at 0x11e2a6940>"
      ]
     },
     "execution_count": 3,
     "metadata": {},
     "output_type": "execute_result"
    },
    {
     "data": {
      "image/png": "[encoded data removed]",
      "text/plain": [
       "<matplotlib.figure.Figure at 0x11dd62358>"
      ]
     },
     "metadata": {},
     "output_type": "display_data"
    }
   ],
   "source": [
    "df.date_col.hist()"
   ]
  },
  {
   "cell_type": "code",
   "execution_count": 4,
   "metadata": {
    "collapsed": false
   },
   "outputs": [
    {
     "data": {
      "text/plain": [
       "<matplotlib.axes._subplots.AxesSubplot at 0x1206ffbe0>"
      ]
     },
     "execution_count": 4,
     "metadata": {},
     "output_type": "execute_result"
    },
    {
     "data": {
      "image/png": "[encoded data removed]",
      "text/plain": [
       "<matplotlib.figure.Figure at 0x120fb0b00>"
      ]
     },
     "metadata": {},
     "output_type": "display_data"
    }
   ],
   "source": [
    "per_day_df = df.set_index('date_col').groupby(pd.TimeGrouper('1D')).sum().fillna(0).reset_index()\n",
    "per_day_df.plot(x='date_col', y='count_col', kind='line')"
   ]
  },
  {
   "cell_type": "markdown",
   "metadata": {},
   "source": [
    "---"
   ]
  },
  {
   "cell_type": "code",
   "execution_count": 5,
   "metadata": {
    "collapsed": false
   },
   "outputs": [
    {
     "name": "stderr",
     "output_type": "stream",
     "text": [
      "Getting time crosstabs:   0%|          | 0/9 [00:00<?, ?it/s]\n",
      "Analyzing:   0%|          | 0/1 [00:00<?, ?it/s]\n",
      "Analyzing: 100%|██████████| 1/1 [00:21<00:00, 21.42s/it]\n",
      "Getting time crosstabs:  11%|█         | 1/9 [00:21<02:51, 21.45s/it]\n",
      "Analyzing:   0%|          | 0/1 [00:00<?, ?it/s]\n",
      "Analyzing: 100%|██████████| 1/1 [00:17<00:00, 17.94s/it]\n",
      "Getting time crosstabs:  22%|██▏       | 2/9 [00:39<02:22, 20.40s/it]\n",
      "Analyzing:   0%|          | 0/1 [00:00<?, ?it/s]\n",
      "Analyzing: 100%|██████████| 1/1 [00:16<00:00, 16.34s/it]\n",
      "Getting time crosstabs:  33%|███▎      | 3/9 [00:55<01:55, 19.19s/it]\n",
      "Analyzing:   0%|          | 0/1 [00:00<?, ?it/s]\n",
      "Analyzing: 100%|██████████| 1/1 [00:19<00:00, 19.02s/it]\n",
      "Getting time crosstabs:  44%|████▍     | 4/9 [01:14<01:35, 19.14s/it]\n",
      "Analyzing:   0%|          | 0/1 [00:00<?, ?it/s]\n",
      "Analyzing: 100%|██████████| 1/1 [00:13<00:00, 13.76s/it]\n",
      "Getting time crosstabs:  56%|█████▌    | 5/9 [01:28<01:10, 17.53s/it]\n",
      "Analyzing:   0%|          | 0/1 [00:00<?, ?it/s]\n",
      "Analyzing: 100%|██████████| 1/1 [00:15<00:00, 15.20s/it]\n",
      "Getting time crosstabs:  67%|██████▋   | 6/9 [01:43<00:50, 16.84s/it]\n",
      "Analyzing:   0%|          | 0/1 [00:00<?, ?it/s]\n",
      "                                                \n",
      "Analyzing:   0%|          | 0/1 [00:00<?, ?it/s]\n",
      "                                                \n",
      "Analyzing:   0%|          | 0/1 [00:00<?, ?it/s]\n",
      "Getting time crosstabs: 100%|██████████| 9/9 [01:43<00:00, 11.54s/it]\n",
      "Grouping by time interval:   0%|          | 0/11 [00:00<?, ?it/s]\n",
      "Analyzing:   0%|          | 0/3 [00:00<?, ?it/s]\n",
      "Analyzing:  33%|███▎      | 1/3 [00:01<00:02,  1.43s/it]\n",
      "Analyzing:  67%|██████▋   | 2/3 [00:02<00:01,  1.21s/it]\n",
      "Analyzing: 100%|██████████| 3/3 [00:03<00:00,  1.34s/it]\n",
      "Grouping by time interval:   9%|▉         | 1/11 [00:03<00:37,  3.79s/it]\n",
      "Analyzing:   0%|          | 0/3 [00:00<?, ?it/s]\n",
      "Analyzing:  33%|███▎      | 1/3 [00:01<00:02,  1.06s/it]\n",
      "Analyzing:  67%|██████▋   | 2/3 [00:01<00:00,  1.10it/s]\n",
      "Analyzing: 100%|██████████| 3/3 [00:02<00:00,  1.02it/s]\n",
      "Grouping by time interval:  18%|█▊        | 2/11 [00:06<00:31,  3.49s/it]\n",
      "Analyzing:   0%|          | 0/3 [00:00<?, ?it/s]\n",
      "Analyzing:  33%|███▎      | 1/3 [00:00<00:01,  1.28it/s]\n",
      "Analyzing:  67%|██████▋   | 2/3 [00:01<00:00,  1.44it/s]\n",
      "Analyzing: 100%|██████████| 3/3 [00:02<00:00,  1.24it/s]\n",
      "Grouping by time interval:  27%|██▋       | 3/11 [00:08<00:25,  3.15s/it]\n",
      "Analyzing:   0%|          | 0/3 [00:00<?, ?it/s]\n",
      "Analyzing:  33%|███▎      | 1/3 [00:00<00:01,  1.34it/s]\n",
      "Analyzing:  67%|██████▋   | 2/3 [00:01<00:00,  1.50it/s]\n",
      "Analyzing: 100%|██████████| 3/3 [00:02<00:00,  1.40it/s]\n",
      "Grouping by time interval:  36%|███▋      | 4/11 [00:10<00:19,  2.82s/it]\n",
      "Analyzing:   0%|          | 0/3 [00:00<?, ?it/s]\n",
      "Analyzing:  33%|███▎      | 1/3 [00:00<00:01,  1.24it/s]\n",
      "Analyzing:  67%|██████▋   | 2/3 [00:01<00:00,  1.39it/s]\n",
      "Analyzing: 100%|██████████| 3/3 [00:02<00:00,  1.37it/s]\n",
      "Grouping by time interval: 100%|██████████| 11/11 [00:13<00:00,  1.19s/it]\n"
     ]
    }
   ],
   "source": [
    "results = capyldi(df)"
   ]
  },
  {
   "cell_type": "code",
   "execution_count": 6,
   "metadata": {
    "collapsed": true
   },
   "outputs": [],
   "source": [
    "import pickle\n",
    "with open('results_yemen_tweet_5_22.pkl', 'wb') as outfile:\n",
    "    pickle.dump(results, outfile)"
   ]
  }
 ],
 "metadata": {
  "kernelspec": {
   "display_name": "Python 3",
   "language": "python",
   "name": "python3"
  },
  "language_info": {
   "codemirror_mode": {
    "name": "ipython",
    "version": 3
   },
   "file_extension": ".py",
   "mimetype": "text/x-python",
   "name": "python",
   "nbconvert_exporter": "python",
   "pygments_lexer": "ipython3",
   "version": "3.5.1"
  },
  "widgets": {
   "state": {},
   "version": "1.1.2"
  }
 },
 "nbformat": 4,
 "nbformat_minor": 0
}
