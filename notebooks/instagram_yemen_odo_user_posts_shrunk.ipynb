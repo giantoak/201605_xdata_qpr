{
 "cells": [
  {
   "cell_type": "markdown",
   "metadata": {},
   "source": [
    "In this notebook, we play around with using Capyldi (Capaldi?) to do bulk runs on the whereistheboom.csv dump."
   ]
  },
  {
   "cell_type": "code",
   "execution_count": 1,
   "metadata": {
    "collapsed": false
   },
   "outputs": [],
   "source": [
    "import pandas as pd\n",
    "import matplotlib as mpl\n",
    "import numpy as np\n",
    "import numpy.random as npr\n",
    "from tqdm import tqdm\n",
    "import requests\n",
    "import sys\n",
    "\n",
    "sys.path.append('../../../capyldi')\n",
    "from capyldi import capyldi\n",
    "\n",
    "%matplotlib inline"
   ]
  },
  {
   "cell_type": "code",
   "execution_count": 2,
   "metadata": {
    "collapsed": false
   },
   "outputs": [],
   "source": [
    "base_df = pd.read_csv('../data/instagram/instagram_yemen_odo_user_posts_shrunk.csv',\n",
    "                      parse_dates=['timestamp'])\n",
    "del base_df['epoch']\n",
    "base_df.columns = ['id', 'lat_lon', 'date_col']\n",
    "df = base_df.date_col.value_counts().reset_index()\n",
    "df.columns = ['date_col', 'count_col']"
   ]
  },
  {
   "cell_type": "code",
   "execution_count": 3,
   "metadata": {
    "collapsed": false
   },
   "outputs": [
    {
     "data": {
      "text/plain": [
       "<matplotlib.axes._subplots.AxesSubplot at 0x11e2b09b0>"
      ]
     },
     "execution_count": 3,
     "metadata": {},
     "output_type": "execute_result"
    },
    {
     "data": {
      "image/png": "[encoded data removed]",
      "text/plain": [
       "<matplotlib.figure.Figure at 0x11dd72390>"
      ]
     },
     "metadata": {},
     "output_type": "display_data"
    }
   ],
   "source": [
    "df.date_col.hist()"
   ]
  },
  {
   "cell_type": "code",
   "execution_count": 4,
   "metadata": {
    "collapsed": false
   },
   "outputs": [
    {
     "data": {
      "text/plain": [
       "<matplotlib.axes._subplots.AxesSubplot at 0x124edcd68>"
      ]
     },
     "execution_count": 4,
     "metadata": {},
     "output_type": "execute_result"
    },
    {
     "data": {
      "image/png": "[encoded data removed]",
      "text/plain": [
       "<matplotlib.figure.Figure at 0x124ee68d0>"
      ]
     },
     "metadata": {},
     "output_type": "display_data"
    }
   ],
   "source": [
    "per_day_df = df.set_index('date_col').groupby(pd.TimeGrouper('1D')).sum().fillna(0).reset_index()\n",
    "per_day_df.plot(x='date_col', y='count_col', kind='line')"
   ]
  },
  {
   "cell_type": "markdown",
   "metadata": {},
   "source": [
    "---"
   ]
  },
  {
   "cell_type": "code",
   "execution_count": 5,
   "metadata": {
    "collapsed": false
   },
   "outputs": [
    {
     "name": "stderr",
     "output_type": "stream",
     "text": [
      "Getting time crosstabs:   0%|          | 0/9 [00:00<?, ?it/s]\n",
      "Analyzing:   0%|          | 0/1 [00:00<?, ?it/s]\n",
      "Analyzing: 100%|██████████| 1/1 [07:33<00:00, 453.55s/it]\n",
      "Getting time crosstabs:  11%|█         | 1/9 [07:33<1:00:29, 453.70s/it]\n",
      "Analyzing:   0%|          | 0/1 [00:00<?, ?it/s]\n",
      "Analyzing: 100%|██████████| 1/1 [07:33<00:00, 453.39s/it]\n",
      "Getting time crosstabs:  22%|██▏       | 2/9 [15:07<52:55, 453.64s/it]  \n",
      "Analyzing:   0%|          | 0/1 [00:00<?, ?it/s]\n",
      "Analyzing: 100%|██████████| 1/1 [07:34<00:00, 454.19s/it]\n",
      "Getting time crosstabs:  33%|███▎      | 3/9 [22:41<45:23, 453.85s/it]\n",
      "Analyzing:   0%|          | 0/1 [00:00<?, ?it/s]\n",
      "Analyzing: 100%|██████████| 1/1 [07:33<00:00, 453.99s/it]\n",
      "Getting time crosstabs:  44%|████▍     | 4/9 [30:15<37:49, 453.94s/it]\n",
      "Analyzing:   0%|          | 0/1 [00:00<?, ?it/s]\n",
      "Analyzing: 100%|██████████| 1/1 [07:33<00:00, 453.64s/it]\n",
      "Getting time crosstabs:  56%|█████▌    | 5/9 [37:49<30:15, 453.88s/it]\n",
      "Analyzing:   0%|          | 0/1 [00:00<?, ?it/s]\n",
      "Analyzing: 100%|██████████| 1/1 [07:33<00:00, 453.73s/it]\n",
      "Getting time crosstabs:  67%|██████▋   | 6/9 [45:23<22:41, 453.87s/it]\n",
      "Analyzing:   0%|          | 0/1 [00:00<?, ?it/s]\n",
      "Getting time crosstabs:  78%|███████▊  | 7/9 [45:23<10:35, 317.75s/it]\n",
      "Analyzing:   0%|          | 0/1 [00:00<?, ?it/s]\n",
      "                                                \n",
      "Analyzing:   0%|          | 0/1 [00:00<?, ?it/s]\n",
      "Getting time crosstabs: 100%|██████████| 9/9 [45:23<00:00, 222.45s/it]\n",
      "Grouping by time interval:   0%|          | 0/11 [00:00<?, ?it/s]\n",
      "Analyzing: 0it [00:00, ?it/s]\n",
      "Grouping by time interval:   9%|▉         | 1/11 [00:00<00:01,  9.10it/s]\n",
      "Analyzing: 0it [00:00, ?it/s]\n",
      "                             \n",
      "Analyzing: 0it [00:00, ?it/s]\n",
      "Grouping by time interval:  27%|██▋       | 3/11 [00:00<00:00,  9.63it/s]\n",
      "Analyzing: 0it [00:00, ?it/s]\n",
      "                             \n",
      "Analyzing: 0it [00:00, ?it/s]\n",
      "Grouping by time interval:  45%|████▌     | 5/11 [00:00<00:00, 10.27it/s]\n",
      "Analyzing: 0it [00:00, ?it/s]\n",
      "Grouping by time interval:  55%|█████▍    | 6/11 [00:00<00:00,  9.95it/s]\n",
      "Analyzing: 0it [00:00, ?it/s]\n",
      "                             \n",
      "Analyzing: 0it [00:00, ?it/s]\n",
      "Grouping by time interval:  73%|███████▎  | 8/11 [00:00<00:00, 10.36it/s]\n",
      "Analyzing: 0it [00:00, ?it/s]\n",
      "                             \n",
      "Analyzing: 0it [00:00, ?it/s]\n",
      "Grouping by time interval:  91%|█████████ | 10/11 [00:00<00:00, 10.68it/s]\n",
      "Analyzing: 0it [00:00, ?it/s]\n",
      "Grouping by time interval: 100%|██████████| 11/11 [00:00<00:00, 11.04it/s]\n"
     ]
    }
   ],
   "source": [
    "results = capyldi(df, ['arima'])"
   ]
  }
 ],
 "metadata": {
  "kernelspec": {
   "display_name": "Python 3",
   "language": "python",
   "name": "python3"
  },
  "language_info": {
   "codemirror_mode": {
    "name": "ipython",
    "version": 3
   },
   "file_extension": ".py",
   "mimetype": "text/x-python",
   "name": "python",
   "nbconvert_exporter": "python",
   "pygments_lexer": "ipython3",
   "version": "3.5.1"
  },
  "widgets": {
   "state": {},
   "version": "1.1.2"
  }
 },
 "nbformat": 4,
 "nbformat_minor": 0
}
